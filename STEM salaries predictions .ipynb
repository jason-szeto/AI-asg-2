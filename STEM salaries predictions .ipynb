{
 "cells": [
  {
   "cell_type": "code",
   "execution_count": 92,
   "metadata": {},
   "outputs": [
    {
     "name": "stdout",
     "output_type": "stream",
     "text": [
      "(5, 2)\n",
      "(62642, 29)\n",
      "The STEM salaries dataset has 62642 rows and 29 columns.\n",
      "The STOCKS dataset has 5 rows and 2 columns.\n"
     ]
    }
   ],
   "source": [
    "import pandas as pd\n",
    "pd.plotting.register_matplotlib_converters()\n",
    "import matplotlib.pyplot as plt\n",
    "%matplotlib inline\n",
    "import seaborn as sns\n",
    "from datetime import datetime\n",
    "\n",
    "from sklearn.tree import DecisionTreeClassifier # Import Decision Tree Classifier\n",
    "from sklearn.model_selection import train_test_split # Import train_test_split function\n",
    "from sklearn import metrics #Import scikit-learn metrics module for accuracy calculation\n",
    "\n",
    "pd.set_option(\"display.max_rows\", 20)\n",
    "STEM = pd.read_csv(r\"C:\\Users\\00gun\\Desktop\\Fall 2021\\COMP 3625\\A2\\Levels_Fyi_Salary_Data.csv\")\n",
    "STOCKS = pd.read_csv(r\"C:\\Users\\00gun\\Desktop\\Fall 2021\\COMP 3625\\A2\\Stocks.csv\")\n",
    "print(STOCKS.shape)\n",
    "print(STEM.shape)\n",
    "print(\"The STEM salaries dataset has {} rows and {} columns.\".format(STEM.shape[0], STEM.shape[1]))\n",
    "print(\"The STOCKS dataset has {} rows and {} columns.\".format(STOCKS.shape[0],STOCKS.shape[1]))"
   ]
  },
  {
   "cell_type": "code",
   "execution_count": 93,
   "metadata": {
    "scrolled": true
   },
   "outputs": [
    {
     "data": {
      "text/plain": [
       "<bound method NDFrame.head of                 timestamp     company     level                         title  \\\n",
       "0       6/7/2017 11:33:27      Oracle        L3               Product Manager   \n",
       "1      6/10/2017 17:11:29        eBay      SE 2             Software Engineer   \n",
       "2      6/11/2017 14:53:57      Amazon        L7               Product Manager   \n",
       "3       6/17/2017 0:23:14       Apple        M1  Software Engineering Manager   \n",
       "4      6/20/2017 10:58:51   Microsoft        60             Software Engineer   \n",
       "...                   ...         ...       ...                           ...   \n",
       "62637   9/9/2018 11:52:32      Google        T4             Software Engineer   \n",
       "62638   9/13/2018 8:23:32   Microsoft        62             Software Engineer   \n",
       "62639  9/13/2018 14:35:59        MSFT        63             Software Engineer   \n",
       "62640  9/16/2018 16:10:35  Salesforce  Lead MTS             Software Engineer   \n",
       "62641   1/29/2019 5:12:59       apple      ict3             Software Engineer   \n",
       "\n",
       "       totalyearlycompensation           location  yearsofexperience  \\\n",
       "0                       127000   Redwood City, CA                1.5   \n",
       "1                       100000  San Francisco, CA                5.0   \n",
       "2                       310000        Seattle, WA                8.0   \n",
       "3                       372000      Sunnyvale, CA                7.0   \n",
       "4                       157000  Mountain View, CA                5.0   \n",
       "...                        ...                ...                ...   \n",
       "62637                   327000        Seattle, WA               10.0   \n",
       "62638                   237000        Redmond, WA                2.0   \n",
       "62639                   220000        Seattle, WA               14.0   \n",
       "62640                   280000  San Francisco, CA                8.0   \n",
       "62641                   200000      Sunnyvale, CA                0.0   \n",
       "\n",
       "       yearsatcompany                             tag  basesalary  ...  \\\n",
       "0                 1.5                             NaN    107000.0  ...   \n",
       "1                 3.0                             NaN         0.0  ...   \n",
       "2                 0.0                             NaN    155000.0  ...   \n",
       "3                 5.0                             NaN    157000.0  ...   \n",
       "4                 3.0                             NaN         0.0  ...   \n",
       "...               ...                             ...         ...  ...   \n",
       "62637             1.0  Distributed Systems (Back-End)    155000.0  ...   \n",
       "62638             2.0                      Full Stack    146900.0  ...   \n",
       "62639            12.0                      Full Stack    157000.0  ...   \n",
       "62640             4.0                             iOS    194688.0  ...   \n",
       "62641             0.0                         ML / AI    155000.0  ...   \n",
       "\n",
       "       Doctorate_Degree  Highschool Some_College Race_Asian  Race_White  \\\n",
       "0                     0           0            0          0           0   \n",
       "1                     0           0            0          0           0   \n",
       "2                     0           0            0          0           0   \n",
       "3                     0           0            0          0           0   \n",
       "4                     0           0            0          0           0   \n",
       "...                 ...         ...          ...        ...         ...   \n",
       "62637                 0           0            0          0           0   \n",
       "62638                 0           0            0          0           0   \n",
       "62639                 0           0            0          0           0   \n",
       "62640                 0           0            0          0           0   \n",
       "62641                 0           0            0          0           0   \n",
       "\n",
       "       Race_Two_Or_More  Race_Black  Race_Hispanic  Race  Education  \n",
       "0                     0           0              0   NaN        NaN  \n",
       "1                     0           0              0   NaN        NaN  \n",
       "2                     0           0              0   NaN        NaN  \n",
       "3                     0           0              0   NaN        NaN  \n",
       "4                     0           0              0   NaN        NaN  \n",
       "...                 ...         ...            ...   ...        ...  \n",
       "62637                 0           0              0   NaN        NaN  \n",
       "62638                 0           0              0   NaN        NaN  \n",
       "62639                 0           0              0   NaN        NaN  \n",
       "62640                 0           0              0   NaN        NaN  \n",
       "62641                 0           0              0   NaN        NaN  \n",
       "\n",
       "[62642 rows x 29 columns]>"
      ]
     },
     "execution_count": 93,
     "metadata": {},
     "output_type": "execute_result"
    }
   ],
   "source": [
    "STEM.head"
   ]
  },
  {
   "cell_type": "code",
   "execution_count": 94,
   "metadata": {},
   "outputs": [
    {
     "name": "stdout",
     "output_type": "stream",
     "text": [
      "timestamp\n",
      "company\n",
      "level\n",
      "title\n",
      "totalyearlycompensation\n",
      "location\n",
      "yearsofexperience\n",
      "yearsatcompany\n",
      "tag\n",
      "basesalary\n",
      "stockgrantvalue\n",
      "bonus\n",
      "gender\n",
      "otherdetails\n",
      "cityid\n",
      "dmaid\n",
      "rowNumber\n",
      "Masters_Degree\n",
      "Bachelors_Degree\n",
      "Doctorate_Degree\n",
      "Highschool\n",
      "Some_College\n",
      "Race_Asian\n",
      "Race_White\n",
      "Race_Two_Or_More\n",
      "Race_Black\n",
      "Race_Hispanic\n",
      "Race\n",
      "Education\n"
     ]
    }
   ],
   "source": [
    "for col in STEM.columns:\n",
    "    print(col)"
   ]
  },
  {
   "cell_type": "code",
   "execution_count": 95,
   "metadata": {},
   "outputs": [
    {
     "name": "stdout",
     "output_type": "stream",
     "text": [
      "timestamp                  object\n",
      "company                    object\n",
      "level                      object\n",
      "title                      object\n",
      "totalyearlycompensation     int64\n",
      "                            ...  \n",
      "Race_Two_Or_More            int64\n",
      "Race_Black                  int64\n",
      "Race_Hispanic               int64\n",
      "Race                       object\n",
      "Education                  object\n",
      "Length: 29, dtype: object\n"
     ]
    }
   ],
   "source": [
    "print(STEM.dtypes)"
   ]
  },
  {
   "cell_type": "code",
   "execution_count": 96,
   "metadata": {},
   "outputs": [
    {
     "name": "stdout",
     "output_type": "stream",
     "text": [
      "<class 'pandas.core.frame.DataFrame'>\n",
      "<class 'pandas.core.series.Series'>\n"
     ]
    }
   ],
   "source": [
    "print(type(STEM))\n",
    "print(type(STEM.company))"
   ]
  },
  {
   "cell_type": "code",
   "execution_count": 97,
   "metadata": {},
   "outputs": [
    {
     "data": {
      "text/plain": [
       "0            Oracle\n",
       "1              eBay\n",
       "2            Amazon\n",
       "3             Apple\n",
       "4         Microsoft\n",
       "            ...    \n",
       "62637        Google\n",
       "62638     Microsoft\n",
       "62639          MSFT\n",
       "62640    Salesforce\n",
       "62641         apple\n",
       "Name: company, Length: 62642, dtype: object"
      ]
     },
     "execution_count": 97,
     "metadata": {},
     "output_type": "execute_result"
    }
   ],
   "source": [
    "STEM.company"
   ]
  },
  {
   "cell_type": "code",
   "execution_count": 98,
   "metadata": {
    "tags": []
   },
   "outputs": [
    {
     "name": "stdout",
     "output_type": "stream",
     "text": [
      "<class 'pandas.core.series.Series'>\n"
     ]
    },
    {
     "data": {
      "text/plain": [
       "Male                               35702\n",
       "Female                              6999\n",
       "Other                                400\n",
       "Title: Senior Software Engineer        1\n",
       "Name: gender, dtype: int64"
      ]
     },
     "execution_count": 98,
     "metadata": {},
     "output_type": "execute_result"
    }
   ],
   "source": [
    "print(type(STEM.gender.value_counts()))\n",
    "STEM.gender.value_counts()"
   ]
  },
  {
   "cell_type": "code",
   "execution_count": 99,
   "metadata": {},
   "outputs": [
    {
     "data": {
      "text/html": [
       "<div>\n",
       "<style scoped>\n",
       "    .dataframe tbody tr th:only-of-type {\n",
       "        vertical-align: middle;\n",
       "    }\n",
       "\n",
       "    .dataframe tbody tr th {\n",
       "        vertical-align: top;\n",
       "    }\n",
       "\n",
       "    .dataframe thead th {\n",
       "        text-align: right;\n",
       "    }\n",
       "</style>\n",
       "<table border=\"1\" class=\"dataframe\">\n",
       "  <thead>\n",
       "    <tr style=\"text-align: right;\">\n",
       "      <th></th>\n",
       "      <th>timestamp</th>\n",
       "      <th>company</th>\n",
       "      <th>level</th>\n",
       "      <th>title</th>\n",
       "      <th>totalyearlycompensation</th>\n",
       "      <th>location</th>\n",
       "      <th>yearsofexperience</th>\n",
       "      <th>yearsatcompany</th>\n",
       "      <th>tag</th>\n",
       "      <th>basesalary</th>\n",
       "      <th>...</th>\n",
       "      <th>Some_College</th>\n",
       "      <th>Race_Asian</th>\n",
       "      <th>Race_White</th>\n",
       "      <th>Race_Two_Or_More</th>\n",
       "      <th>Race_Black</th>\n",
       "      <th>Race_Hispanic</th>\n",
       "      <th>Race</th>\n",
       "      <th>Education</th>\n",
       "      <th>Total_salary</th>\n",
       "      <th>Salary_group</th>\n",
       "    </tr>\n",
       "  </thead>\n",
       "  <tbody>\n",
       "    <tr>\n",
       "      <th>0</th>\n",
       "      <td>6/7/2017 11:33:27</td>\n",
       "      <td>Oracle</td>\n",
       "      <td>L3</td>\n",
       "      <td>Product Manager</td>\n",
       "      <td>127000</td>\n",
       "      <td>Redwood City, CA</td>\n",
       "      <td>1.5</td>\n",
       "      <td>1.5</td>\n",
       "      <td>NaN</td>\n",
       "      <td>107000.0</td>\n",
       "      <td>...</td>\n",
       "      <td>0</td>\n",
       "      <td>0</td>\n",
       "      <td>0</td>\n",
       "      <td>0</td>\n",
       "      <td>0</td>\n",
       "      <td>0</td>\n",
       "      <td>NaN</td>\n",
       "      <td>NaN</td>\n",
       "      <td>117000.0</td>\n",
       "      <td>Mid</td>\n",
       "    </tr>\n",
       "    <tr>\n",
       "      <th>1</th>\n",
       "      <td>6/10/2017 17:11:29</td>\n",
       "      <td>eBay</td>\n",
       "      <td>SE 2</td>\n",
       "      <td>Software Engineer</td>\n",
       "      <td>100000</td>\n",
       "      <td>San Francisco, CA</td>\n",
       "      <td>5.0</td>\n",
       "      <td>3.0</td>\n",
       "      <td>NaN</td>\n",
       "      <td>0.0</td>\n",
       "      <td>...</td>\n",
       "      <td>0</td>\n",
       "      <td>0</td>\n",
       "      <td>0</td>\n",
       "      <td>0</td>\n",
       "      <td>0</td>\n",
       "      <td>0</td>\n",
       "      <td>NaN</td>\n",
       "      <td>NaN</td>\n",
       "      <td>0.0</td>\n",
       "      <td>Very low</td>\n",
       "    </tr>\n",
       "    <tr>\n",
       "      <th>2</th>\n",
       "      <td>6/11/2017 14:53:57</td>\n",
       "      <td>Amazon</td>\n",
       "      <td>L7</td>\n",
       "      <td>Product Manager</td>\n",
       "      <td>310000</td>\n",
       "      <td>Seattle, WA</td>\n",
       "      <td>8.0</td>\n",
       "      <td>0.0</td>\n",
       "      <td>NaN</td>\n",
       "      <td>155000.0</td>\n",
       "      <td>...</td>\n",
       "      <td>0</td>\n",
       "      <td>0</td>\n",
       "      <td>0</td>\n",
       "      <td>0</td>\n",
       "      <td>0</td>\n",
       "      <td>0</td>\n",
       "      <td>NaN</td>\n",
       "      <td>NaN</td>\n",
       "      <td>155000.0</td>\n",
       "      <td>Mid</td>\n",
       "    </tr>\n",
       "    <tr>\n",
       "      <th>3</th>\n",
       "      <td>6/17/2017 0:23:14</td>\n",
       "      <td>Apple</td>\n",
       "      <td>M1</td>\n",
       "      <td>Software Engineering Manager</td>\n",
       "      <td>372000</td>\n",
       "      <td>Sunnyvale, CA</td>\n",
       "      <td>7.0</td>\n",
       "      <td>5.0</td>\n",
       "      <td>NaN</td>\n",
       "      <td>157000.0</td>\n",
       "      <td>...</td>\n",
       "      <td>0</td>\n",
       "      <td>0</td>\n",
       "      <td>0</td>\n",
       "      <td>0</td>\n",
       "      <td>0</td>\n",
       "      <td>0</td>\n",
       "      <td>NaN</td>\n",
       "      <td>NaN</td>\n",
       "      <td>192000.0</td>\n",
       "      <td>Upper Mid</td>\n",
       "    </tr>\n",
       "    <tr>\n",
       "      <th>4</th>\n",
       "      <td>6/20/2017 10:58:51</td>\n",
       "      <td>Microsoft</td>\n",
       "      <td>60</td>\n",
       "      <td>Software Engineer</td>\n",
       "      <td>157000</td>\n",
       "      <td>Mountain View, CA</td>\n",
       "      <td>5.0</td>\n",
       "      <td>3.0</td>\n",
       "      <td>NaN</td>\n",
       "      <td>0.0</td>\n",
       "      <td>...</td>\n",
       "      <td>0</td>\n",
       "      <td>0</td>\n",
       "      <td>0</td>\n",
       "      <td>0</td>\n",
       "      <td>0</td>\n",
       "      <td>0</td>\n",
       "      <td>NaN</td>\n",
       "      <td>NaN</td>\n",
       "      <td>0.0</td>\n",
       "      <td>Very low</td>\n",
       "    </tr>\n",
       "  </tbody>\n",
       "</table>\n",
       "<p>5 rows × 31 columns</p>\n",
       "</div>"
      ],
      "text/plain": [
       "            timestamp    company level                         title  \\\n",
       "0   6/7/2017 11:33:27     Oracle    L3               Product Manager   \n",
       "1  6/10/2017 17:11:29       eBay  SE 2             Software Engineer   \n",
       "2  6/11/2017 14:53:57     Amazon    L7               Product Manager   \n",
       "3   6/17/2017 0:23:14      Apple    M1  Software Engineering Manager   \n",
       "4  6/20/2017 10:58:51  Microsoft    60             Software Engineer   \n",
       "\n",
       "   totalyearlycompensation           location  yearsofexperience  \\\n",
       "0                   127000   Redwood City, CA                1.5   \n",
       "1                   100000  San Francisco, CA                5.0   \n",
       "2                   310000        Seattle, WA                8.0   \n",
       "3                   372000      Sunnyvale, CA                7.0   \n",
       "4                   157000  Mountain View, CA                5.0   \n",
       "\n",
       "   yearsatcompany  tag  basesalary  ...  Some_College  Race_Asian Race_White  \\\n",
       "0             1.5  NaN    107000.0  ...             0           0          0   \n",
       "1             3.0  NaN         0.0  ...             0           0          0   \n",
       "2             0.0  NaN    155000.0  ...             0           0          0   \n",
       "3             5.0  NaN    157000.0  ...             0           0          0   \n",
       "4             3.0  NaN         0.0  ...             0           0          0   \n",
       "\n",
       "  Race_Two_Or_More  Race_Black  Race_Hispanic  Race  Education  Total_salary  \\\n",
       "0                0           0              0   NaN        NaN      117000.0   \n",
       "1                0           0              0   NaN        NaN           0.0   \n",
       "2                0           0              0   NaN        NaN      155000.0   \n",
       "3                0           0              0   NaN        NaN      192000.0   \n",
       "4                0           0              0   NaN        NaN           0.0   \n",
       "\n",
       "   Salary_group  \n",
       "0           Mid  \n",
       "1      Very low  \n",
       "2           Mid  \n",
       "3     Upper Mid  \n",
       "4      Very low  \n",
       "\n",
       "[5 rows x 31 columns]"
      ]
     },
     "execution_count": 99,
     "metadata": {},
     "output_type": "execute_result"
    }
   ],
   "source": [
    "STEM['Total_salary'] = STEM['basesalary'] + STEM['bonus']\n",
    "income_labels =['Very low', 'Low', 'Mid', 'Upper Mid', 'High', 'Very High']\n",
    "STEM['Salary_group'] = pd.qcut( STEM['Total_salary'], q = [0, 0.10, 0.20, 0.60, 0.90, 0.95, 1], labels = income_labels)\n",
    "STEM.head()"
   ]
  },
  {
   "cell_type": "code",
   "execution_count": 100,
   "metadata": {},
   "outputs": [
    {
     "data": {
      "text/plain": [
       "Mid          24765\n",
       "Upper Mid    19122\n",
       "Low           6522\n",
       "Very low      6309\n",
       "Very High     3015\n",
       "High          2909\n",
       "Name: Salary_group, dtype: int64"
      ]
     },
     "execution_count": 100,
     "metadata": {},
     "output_type": "execute_result"
    }
   ],
   "source": [
    "STEM.Salary_group.value_counts()"
   ]
  },
  {
   "cell_type": "code",
   "execution_count": 101,
   "metadata": {},
   "outputs": [
    {
     "data": {
      "text/plain": [
       "<AxesSubplot:>"
      ]
     },
     "execution_count": 101,
     "metadata": {},
     "output_type": "execute_result"
    },
    {
     "data": {
      "image/png": "[encoded data removed]",
      "text/plain": [
       "<Figure size 432x288 with 1 Axes>"
      ]
     },
     "metadata": {
      "needs_background": "light"
     },
     "output_type": "display_data"
    }
   ],
   "source": [
    "STEM.Salary_group.value_counts().plot ( kind = \"bar\")"
   ]
  },
  {
   "cell_type": "code",
   "execution_count": 107,
   "metadata": {},
   "outputs": [
    {
     "data": {
      "text/plain": [
       "0.000000       1366\n",
       "88.362640       418\n",
       "58.908427       359\n",
       "5.648601        345\n",
       "73.635534       251\n",
       "               ... \n",
       "432.976937        1\n",
       "39.530900         1\n",
       "52.707867         1\n",
       "2715.231788       1\n",
       "303.070233        1\n",
       "Name: Stock_Amount, Length: 1041, dtype: int64"
      ]
     },
     "execution_count": 107,
     "metadata": {},
     "output_type": "execute_result"
    }
   ],
   "source": [
    "combine = pd.merge(STEM, STOCKS[['company', 'Stock Price (As of Nov 16 2021)']], on='company')\n",
    "combine[\"Stock_Amount\"] = combine[\"stockgrantvalue\"] / combine['Stock Price (As of Nov 16 2021)']\n",
    "combine.Stock_Amount.value_counts()"
   ]
  },
  {
   "cell_type": "code",
   "execution_count": 103,
   "metadata": {},
   "outputs": [
    {
     "ename": "NameError",
     "evalue": "name 'iris' is not defined",
     "output_type": "error",
     "traceback": [
      "\u001b[1;31m---------------------------------------------------------------------------\u001b[0m",
      "\u001b[1;31mNameError\u001b[0m                                 Traceback (most recent call last)",
      "\u001b[1;32m<ipython-input-103-cf16a7a52d0f>\u001b[0m in \u001b[0;36m<module>\u001b[1;34m\u001b[0m\n\u001b[1;32m----> 1\u001b[1;33m \u001b[0miris\u001b[0m\u001b[1;33m.\u001b[0m\u001b[0mSpecies\u001b[0m\u001b[1;33m.\u001b[0m\u001b[0mvalue_counts\u001b[0m\u001b[1;33m(\u001b[0m\u001b[1;33m)\u001b[0m\u001b[1;33m.\u001b[0m\u001b[0mplot\u001b[0m\u001b[1;33m(\u001b[0m\u001b[0mkind\u001b[0m\u001b[1;33m=\u001b[0m\u001b[1;34m\"bar\"\u001b[0m\u001b[1;33m)\u001b[0m\u001b[1;33m\u001b[0m\u001b[1;33m\u001b[0m\u001b[0m\n\u001b[0m",
      "\u001b[1;31mNameError\u001b[0m: name 'iris' is not defined"
     ]
    }
   ],
   "source": [
    "iris.Species.value_counts().plot(kind=\"bar\")"
   ]
  },
  {
   "cell_type": "code",
   "execution_count": null,
   "metadata": {},
   "outputs": [],
   "source": [
    "iris.Species.value_counts(normalize=\"true\").plot(kind=\"bar\")"
   ]
  },
  {
   "cell_type": "code",
   "execution_count": null,
   "metadata": {},
   "outputs": [],
   "source": [
    "pd.crosstab(iris.Species,iris.SepalLengthCm)"
   ]
  },
  {
   "cell_type": "code",
   "execution_count": null,
   "metadata": {},
   "outputs": [],
   "source": [
    "pd.qcut(iris['SepalLengthCm'], q=3) #splits into 3 parts"
   ]
  },
  {
   "cell_type": "code",
   "execution_count": null,
   "metadata": {},
   "outputs": [],
   "source": [
    "iris['3_bin'] = pd.qcut(iris['SepalLengthCm'], q=3)\n",
    "iris['5_bin'] = pd.qcut(iris['SepalLengthCm'], q=5)\n",
    "iris.head()"
   ]
  },
  {
   "cell_type": "code",
   "execution_count": null,
   "metadata": {},
   "outputs": [],
   "source": [
    "iris.tail()"
   ]
  },
  {
   "cell_type": "code",
   "execution_count": null,
   "metadata": {},
   "outputs": [],
   "source": [
    "iris['5_bin'].value_counts()"
   ]
  },
  {
   "cell_type": "code",
   "execution_count": null,
   "metadata": {},
   "outputs": [],
   "source": [
    "cat_bins = ['Small', 'Medium', 'Large']\n",
    "iris['sepal_bins'] = pd.qcut(iris['SepalLengthCm'], q=[0,0.4,0.8,1], labels=cat_bins)\n",
    "iris.head()"
   ]
  },
  {
   "cell_type": "code",
   "execution_count": null,
   "metadata": {},
   "outputs": [],
   "source": [
    "iris.sepal_bins.value_counts()"
   ]
  },
  {
   "cell_type": "code",
   "execution_count": null,
   "metadata": {},
   "outputs": [],
   "source": [
    "iris.sepal_bins.value_counts().plot(kind=\"bar\")"
   ]
  },
  {
   "cell_type": "code",
   "execution_count": null,
   "metadata": {},
   "outputs": [],
   "source": [
    "pd.crosstab(iris.Species,iris.sepal_bins)"
   ]
  },
  {
   "cell_type": "code",
   "execution_count": null,
   "metadata": {},
   "outputs": [],
   "source": [
    "# Feature selection\n",
    "#split dataset in features and target variable\n",
    "#SepalLengthCm\n",
    "#SepalWidthCm\n",
    "#PetalLengthCm\n",
    "#PetalWidthCm\n",
    "#Species\n",
    "feature_cols = ['SepalLengthCm', 'SepalWidthCm', 'PetalLengthCm', 'PetalWidthCm']\n",
    "X = iris[feature_cols] # Features\n",
    "y = iris.Species # Target variable"
   ]
  },
  {
   "cell_type": "code",
   "execution_count": null,
   "metadata": {},
   "outputs": [],
   "source": [
    "# Split dataset into training set and test set\n",
    "X_train, X_test, y_train, y_test = train_test_split(X, y, test_size=0.3, random_state=1) # 70% training and 30% test"
   ]
  },
  {
   "cell_type": "code",
   "execution_count": null,
   "metadata": {},
   "outputs": [],
   "source": [
    "print(type(X_train))"
   ]
  },
  {
   "cell_type": "code",
   "execution_count": null,
   "metadata": {},
   "outputs": [],
   "source": [
    "print(\"X_train = \", X_train.shape, \"X_test= \", X_test.shape, \"y_train = \", y_train.shape, \"y_test = \", y_test.shape)"
   ]
  },
  {
   "cell_type": "code",
   "execution_count": null,
   "metadata": {},
   "outputs": [],
   "source": [
    "X_train.head()"
   ]
  },
  {
   "cell_type": "code",
   "execution_count": null,
   "metadata": {},
   "outputs": [],
   "source": [
    "y_train.head()"
   ]
  },
  {
   "cell_type": "code",
   "execution_count": null,
   "metadata": {},
   "outputs": [],
   "source": [
    "# Create Decision Tree classifer object\n",
    "clf = DecisionTreeClassifier()"
   ]
  },
  {
   "cell_type": "code",
   "execution_count": null,
   "metadata": {},
   "outputs": [],
   "source": []
  },
  {
   "cell_type": "code",
   "execution_count": null,
   "metadata": {},
   "outputs": [],
   "source": [
    "# Train Decision Tree Classifer\n",
    "clf = clf.fit(X_train,y_train)"
   ]
  },
  {
   "cell_type": "code",
   "execution_count": null,
   "metadata": {},
   "outputs": [],
   "source": [
    "#Predict the response for test dataset\n",
    "y_pred = clf.predict(X_test)"
   ]
  },
  {
   "cell_type": "code",
   "execution_count": null,
   "metadata": {},
   "outputs": [],
   "source": [
    "# 1, 4,4,4,4 \n",
    "# SepalLengthCm\n",
    "# SepalWidthCm\n",
    "# PetalLengthCm\n",
    "# PetalWidthCm\n",
    "t = {'SepalLengthCm':[1], 'SepalWidthCm':[1], 'PetalLengthCm':[4], 'PetalWidthCm':[4]}\n",
    "trythis = pd.DataFrame(data=t)\n",
    "trythis\n"
   ]
  },
  {
   "cell_type": "code",
   "execution_count": null,
   "metadata": {},
   "outputs": [],
   "source": [
    "trypred = clf.predict(trythis)\n",
    "trypred"
   ]
  },
  {
   "cell_type": "code",
   "execution_count": null,
   "metadata": {},
   "outputs": [],
   "source": [
    "# how good is it? \n",
    "print(\"Accuracy:\",metrics.accuracy_score(y_test, y_pred))"
   ]
  },
  {
   "cell_type": "code",
   "execution_count": null,
   "metadata": {},
   "outputs": [],
   "source": [
    "y_test"
   ]
  },
  {
   "cell_type": "code",
   "execution_count": null,
   "metadata": {},
   "outputs": [],
   "source": [
    "y_pred"
   ]
  },
  {
   "cell_type": "code",
   "execution_count": null,
   "metadata": {},
   "outputs": [],
   "source": [
    "from sklearn.metrics import confusion_matrix\n",
    "confusion_matrix(y_test,y_pred)"
   ]
  },
  {
   "cell_type": "markdown",
   "metadata": {},
   "source": [
    "By definition a confusion matrix $C$ is such that $C_{i,j}$ is equal to the number of observations known to be in group $i$ and predicted to be in group $j$"
   ]
  },
  {
   "cell_type": "code",
   "execution_count": null,
   "metadata": {},
   "outputs": [],
   "source": [
    "sp=['Iris-setosa', 'Iris-versicolor', 'Iris-virginica']\n",
    "confusion_matrix(y_test,y_pred, labels=sp)"
   ]
  },
  {
   "cell_type": "code",
   "execution_count": null,
   "metadata": {},
   "outputs": [],
   "source": [
    "dazed = pd.DataFrame(\n",
    "    confusion_matrix(y_test, y_pred, labels=sp), \n",
    "    index=['true:setosa', 'true:versicolor', 'true:virginica'], \n",
    "    columns=['pred:setosa', 'pred:versicolo', 'pred:virginica']\n",
    ")\n",
    "print(dazed)"
   ]
  },
  {
   "cell_type": "code",
   "execution_count": null,
   "metadata": {},
   "outputs": [],
   "source": [
    "New = pd.DataFrame({'SepalLengthCm': [7,4.8, 3.2], \n",
    "                   'SepalWidthCm': [7, 4.0, 3.5], \n",
    "                   'PetalLengthCm': [7,1.4,1.6], \n",
    "                   'PetalWidthCm': [7,0.5,0.5]})\n",
    "New"
   ]
  },
  {
   "cell_type": "code",
   "execution_count": null,
   "metadata": {},
   "outputs": [],
   "source": [
    "trypred = clf.predict(New)\n",
    "trypred"
   ]
  },
  {
   "cell_type": "code",
   "execution_count": null,
   "metadata": {},
   "outputs": [],
   "source": []
  }
 ],
 "metadata": {
  "kernelspec": {
   "display_name": "Python 3",
   "language": "python",
   "name": "python3"
  },
  "language_info": {
   "codemirror_mode": {
    "name": "ipython",
    "version": 3
   },
   "file_extension": ".py",
   "mimetype": "text/x-python",
   "name": "python",
   "nbconvert_exporter": "python",
   "pygments_lexer": "ipython3",
   "version": "3.8.8"
  },
  "toc-autonumbering": false
 },
 "nbformat": 4,
 "nbformat_minor": 4
}
