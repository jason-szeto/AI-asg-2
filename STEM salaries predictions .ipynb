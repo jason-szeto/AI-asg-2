{
 "cells": [
  {
   "cell_type": "code",
   "execution_count": 131,
   "metadata": {
    "tags": []
   },
   "outputs": [
    {
     "name": "stdout",
     "output_type": "stream",
     "text": [
      "(5, 2)\n",
      "(62642, 12)\n",
      "The STEM salaries dataset has 62642 rows and 12 columns.\n",
      "The STOCKS dataset has 5 rows and 2 columns.\n"
     ]
    }
   ],
   "source": [
    "import pandas as pd\n",
    "pd.plotting.register_matplotlib_converters()\n",
    "import matplotlib.pyplot as plt\n",
    "%matplotlib inline\n",
    "import seaborn as sns\n",
    "from datetime import datetime\n",
    "\n",
    "from sklearn.tree import DecisionTreeClassifier # Import Decision Tree Classifier\n",
    "from sklearn.model_selection import train_test_split # Import train_test_split function\n",
    "from sklearn import metrics #Import scikit-learn metrics module for accuracy calculation\n",
    "\n",
    "pd.set_option(\"display.max_rows\", 20)\n",
    " \n",
    "\n",
    "STEM = pd.read_csv(\"Levels_Fyi_Salary_Data.csv\")\n",
    "STOCKS = pd.read_csv(\"Stocks.csv\")\n",
    "#STEM = pd.read_csv(r\"C:\\Users\\00gun\\Desktop\\Fall 2021\\COMP 3625\\A2\\Levels_Fyi_Salary_Data.csv\")\n",
    "#STOCKS = pd.read_csv(r\"C:\\Users\\00gun\\Desktop\\Fall 2021\\COMP 3625\\A2\\Stocks.csv\")\n",
    "print(STOCKS.shape)\n",
    "print(STEM.shape)\n",
    "print(\"The STEM salaries dataset has {} rows and {} columns.\".format(STEM.shape[0], STEM.shape[1]))\n",
    "print(\"The STOCKS dataset has {} rows and {} columns.\".format(STOCKS.shape[0],STOCKS.shape[1]))"
   ]
  },
  {
   "cell_type": "code",
   "execution_count": 132,
   "metadata": {
    "scrolled": true
   },
   "outputs": [
    {
     "data": {
      "text/plain": [
       "<bound method NDFrame.head of           company                         title  totalyearlycompensation  \\\n",
       "0          Oracle               Product Manager                   127000   \n",
       "1            eBay             Software Engineer                   100000   \n",
       "2          Amazon               Product Manager                   310000   \n",
       "3           Apple  Software Engineering Manager                   372000   \n",
       "4       Microsoft             Software Engineer                   157000   \n",
       "...           ...                           ...                      ...   \n",
       "62637      Google             Software Engineer                   327000   \n",
       "62638   Microsoft             Software Engineer                   237000   \n",
       "62639        MSFT             Software Engineer                   220000   \n",
       "62640  Salesforce             Software Engineer                   280000   \n",
       "62641       apple             Software Engineer                   200000   \n",
       "\n",
       "                location  yearsofexperience  yearsatcompany  basesalary  \\\n",
       "0       Redwood City, CA                1.5             1.5      107000   \n",
       "1      San Francisco, CA                5.0             3.0           0   \n",
       "2            Seattle, WA                8.0             0.0      155000   \n",
       "3          Sunnyvale, CA                7.0             5.0      157000   \n",
       "4      Mountain View, CA                5.0             3.0           0   \n",
       "...                  ...                ...             ...         ...   \n",
       "62637        Seattle, WA               10.0             1.0      155000   \n",
       "62638        Redmond, WA                2.0             2.0      146900   \n",
       "62639        Seattle, WA               14.0            12.0      157000   \n",
       "62640  San Francisco, CA                8.0             4.0      194688   \n",
       "62641      Sunnyvale, CA                0.0             0.0      155000   \n",
       "\n",
       "       stockgrantvalue    bonus gender Race Education  \n",
       "0              20000.0  10000.0    NaN  NaN       NaN  \n",
       "1                  0.0      0.0    NaN  NaN       NaN  \n",
       "2                  0.0      0.0    NaN  NaN       NaN  \n",
       "3             180000.0  35000.0    NaN  NaN       NaN  \n",
       "4                  0.0      0.0    NaN  NaN       NaN  \n",
       "...                ...      ...    ...  ...       ...  \n",
       "62637         150000.0  22000.0    NaN  NaN       NaN  \n",
       "62638          73200.0  16000.0    NaN  NaN       NaN  \n",
       "62639          25000.0  20000.0    NaN  NaN       NaN  \n",
       "62640          57000.0  29000.0    NaN  NaN       NaN  \n",
       "62641          27000.0  19000.0   Male  NaN       NaN  \n",
       "\n",
       "[62642 rows x 12 columns]>"
      ]
     },
     "execution_count": 132,
     "metadata": {},
     "output_type": "execute_result"
    }
   ],
   "source": [
    "STEM.head"
   ]
  },
  {
   "cell_type": "code",
   "execution_count": 133,
   "metadata": {},
   "outputs": [
    {
     "name": "stdout",
     "output_type": "stream",
     "text": [
      "company\n",
      "title\n",
      "totalyearlycompensation\n",
      "location\n",
      "yearsofexperience\n",
      "yearsatcompany\n",
      "basesalary\n",
      "stockgrantvalue\n",
      "bonus\n",
      "gender\n",
      "Race\n",
      "Education\n"
     ]
    }
   ],
   "source": [
    "for col in STEM.columns:\n",
    "    print(col)"
   ]
  },
  {
   "cell_type": "code",
   "execution_count": 134,
   "metadata": {},
   "outputs": [
    {
     "name": "stdout",
     "output_type": "stream",
     "text": [
      "company                     object\n",
      "title                       object\n",
      "totalyearlycompensation      int64\n",
      "location                    object\n",
      "yearsofexperience          float64\n",
      "yearsatcompany             float64\n",
      "basesalary                   int64\n",
      "stockgrantvalue            float64\n",
      "bonus                      float64\n",
      "gender                      object\n",
      "Race                        object\n",
      "Education                   object\n",
      "dtype: object\n"
     ]
    }
   ],
   "source": [
    "print(STEM.dtypes)"
   ]
  },
  {
   "cell_type": "code",
   "execution_count": 135,
   "metadata": {},
   "outputs": [
    {
     "name": "stdout",
     "output_type": "stream",
     "text": [
      "<class 'pandas.core.frame.DataFrame'>\n",
      "<class 'pandas.core.series.Series'>\n"
     ]
    }
   ],
   "source": [
    "print(type(STEM))\n",
    "print(type(STEM.company))"
   ]
  },
  {
   "cell_type": "code",
   "execution_count": 136,
   "metadata": {},
   "outputs": [
    {
     "data": {
      "text/plain": [
       "0            Oracle\n",
       "1              eBay\n",
       "2            Amazon\n",
       "3             Apple\n",
       "4         Microsoft\n",
       "            ...    \n",
       "62637        Google\n",
       "62638     Microsoft\n",
       "62639          MSFT\n",
       "62640    Salesforce\n",
       "62641         apple\n",
       "Name: company, Length: 62642, dtype: object"
      ]
     },
     "execution_count": 136,
     "metadata": {},
     "output_type": "execute_result"
    }
   ],
   "source": [
    "STEM.company"
   ]
  },
  {
   "cell_type": "code",
   "execution_count": 137,
   "metadata": {
    "tags": []
   },
   "outputs": [
    {
     "name": "stdout",
     "output_type": "stream",
     "text": [
      "<class 'pandas.core.series.Series'>\n"
     ]
    },
    {
     "data": {
      "text/plain": [
       "Male                               35702\n",
       "Female                              6999\n",
       "Other                                400\n",
       "Title: Senior Software Engineer        1\n",
       "Name: gender, dtype: int64"
      ]
     },
     "execution_count": 137,
     "metadata": {},
     "output_type": "execute_result"
    }
   ],
   "source": [
    "print(type(STEM.gender.value_counts()))\n",
    "STEM.gender.value_counts()"
   ]
  },
  {
   "cell_type": "code",
   "execution_count": 138,
   "metadata": {},
   "outputs": [
    {
     "data": {
      "text/html": [
       "<div>\n",
       "<style scoped>\n",
       "    .dataframe tbody tr th:only-of-type {\n",
       "        vertical-align: middle;\n",
       "    }\n",
       "\n",
       "    .dataframe tbody tr th {\n",
       "        vertical-align: top;\n",
       "    }\n",
       "\n",
       "    .dataframe thead th {\n",
       "        text-align: right;\n",
       "    }\n",
       "</style>\n",
       "<table border=\"1\" class=\"dataframe\">\n",
       "  <thead>\n",
       "    <tr style=\"text-align: right;\">\n",
       "      <th></th>\n",
       "      <th>company</th>\n",
       "      <th>title</th>\n",
       "      <th>totalyearlycompensation</th>\n",
       "      <th>location</th>\n",
       "      <th>yearsofexperience</th>\n",
       "      <th>yearsatcompany</th>\n",
       "      <th>basesalary</th>\n",
       "      <th>stockgrantvalue</th>\n",
       "      <th>bonus</th>\n",
       "      <th>gender</th>\n",
       "      <th>Race</th>\n",
       "      <th>Education</th>\n",
       "      <th>Total_salary</th>\n",
       "      <th>Salary_group</th>\n",
       "    </tr>\n",
       "  </thead>\n",
       "  <tbody>\n",
       "    <tr>\n",
       "      <th>0</th>\n",
       "      <td>Oracle</td>\n",
       "      <td>Product Manager</td>\n",
       "      <td>127000</td>\n",
       "      <td>Redwood City, CA</td>\n",
       "      <td>1.5</td>\n",
       "      <td>1.5</td>\n",
       "      <td>107000</td>\n",
       "      <td>20000.0</td>\n",
       "      <td>10000.0</td>\n",
       "      <td>NaN</td>\n",
       "      <td>NaN</td>\n",
       "      <td>NaN</td>\n",
       "      <td>117000.0</td>\n",
       "      <td>Mid</td>\n",
       "    </tr>\n",
       "    <tr>\n",
       "      <th>1</th>\n",
       "      <td>eBay</td>\n",
       "      <td>Software Engineer</td>\n",
       "      <td>100000</td>\n",
       "      <td>San Francisco, CA</td>\n",
       "      <td>5.0</td>\n",
       "      <td>3.0</td>\n",
       "      <td>0</td>\n",
       "      <td>0.0</td>\n",
       "      <td>0.0</td>\n",
       "      <td>NaN</td>\n",
       "      <td>NaN</td>\n",
       "      <td>NaN</td>\n",
       "      <td>0.0</td>\n",
       "      <td>Very low</td>\n",
       "    </tr>\n",
       "    <tr>\n",
       "      <th>2</th>\n",
       "      <td>Amazon</td>\n",
       "      <td>Product Manager</td>\n",
       "      <td>310000</td>\n",
       "      <td>Seattle, WA</td>\n",
       "      <td>8.0</td>\n",
       "      <td>0.0</td>\n",
       "      <td>155000</td>\n",
       "      <td>0.0</td>\n",
       "      <td>0.0</td>\n",
       "      <td>NaN</td>\n",
       "      <td>NaN</td>\n",
       "      <td>NaN</td>\n",
       "      <td>155000.0</td>\n",
       "      <td>Mid</td>\n",
       "    </tr>\n",
       "    <tr>\n",
       "      <th>3</th>\n",
       "      <td>Apple</td>\n",
       "      <td>Software Engineering Manager</td>\n",
       "      <td>372000</td>\n",
       "      <td>Sunnyvale, CA</td>\n",
       "      <td>7.0</td>\n",
       "      <td>5.0</td>\n",
       "      <td>157000</td>\n",
       "      <td>180000.0</td>\n",
       "      <td>35000.0</td>\n",
       "      <td>NaN</td>\n",
       "      <td>NaN</td>\n",
       "      <td>NaN</td>\n",
       "      <td>192000.0</td>\n",
       "      <td>Upper Mid</td>\n",
       "    </tr>\n",
       "    <tr>\n",
       "      <th>4</th>\n",
       "      <td>Microsoft</td>\n",
       "      <td>Software Engineer</td>\n",
       "      <td>157000</td>\n",
       "      <td>Mountain View, CA</td>\n",
       "      <td>5.0</td>\n",
       "      <td>3.0</td>\n",
       "      <td>0</td>\n",
       "      <td>0.0</td>\n",
       "      <td>0.0</td>\n",
       "      <td>NaN</td>\n",
       "      <td>NaN</td>\n",
       "      <td>NaN</td>\n",
       "      <td>0.0</td>\n",
       "      <td>Very low</td>\n",
       "    </tr>\n",
       "  </tbody>\n",
       "</table>\n",
       "</div>"
      ],
      "text/plain": [
       "     company                         title  totalyearlycompensation  \\\n",
       "0     Oracle               Product Manager                   127000   \n",
       "1       eBay             Software Engineer                   100000   \n",
       "2     Amazon               Product Manager                   310000   \n",
       "3      Apple  Software Engineering Manager                   372000   \n",
       "4  Microsoft             Software Engineer                   157000   \n",
       "\n",
       "            location  yearsofexperience  yearsatcompany  basesalary  \\\n",
       "0   Redwood City, CA                1.5             1.5      107000   \n",
       "1  San Francisco, CA                5.0             3.0           0   \n",
       "2        Seattle, WA                8.0             0.0      155000   \n",
       "3      Sunnyvale, CA                7.0             5.0      157000   \n",
       "4  Mountain View, CA                5.0             3.0           0   \n",
       "\n",
       "   stockgrantvalue    bonus gender Race Education  Total_salary Salary_group  \n",
       "0          20000.0  10000.0    NaN  NaN       NaN      117000.0          Mid  \n",
       "1              0.0      0.0    NaN  NaN       NaN           0.0     Very low  \n",
       "2              0.0      0.0    NaN  NaN       NaN      155000.0          Mid  \n",
       "3         180000.0  35000.0    NaN  NaN       NaN      192000.0    Upper Mid  \n",
       "4              0.0      0.0    NaN  NaN       NaN           0.0     Very low  "
      ]
     },
     "execution_count": 138,
     "metadata": {},
     "output_type": "execute_result"
    }
   ],
   "source": [
    "STEM['Total_salary'] = STEM['basesalary'] + STEM['bonus']\n",
    "income_labels =['Very low', 'Low', 'Mid', 'Upper Mid', 'High', 'Very High']\n",
    "STEM['Salary_group'] = pd.qcut( STEM['Total_salary'], q = [0, 0.10, 0.20, 0.60, 0.90, 0.95, 1], labels = income_labels)\n",
    "STEM.head()"
   ]
  },
  {
   "cell_type": "code",
   "execution_count": 139,
   "metadata": {},
   "outputs": [
    {
     "data": {
      "text/plain": [
       "Mid          24765\n",
       "Upper Mid    19122\n",
       "Low           6522\n",
       "Very low      6309\n",
       "Very High     3015\n",
       "High          2909\n",
       "Name: Salary_group, dtype: int64"
      ]
     },
     "execution_count": 139,
     "metadata": {},
     "output_type": "execute_result"
    }
   ],
   "source": [
    "STEM.Salary_group.value_counts()"
   ]
  },
  {
   "cell_type": "code",
   "execution_count": 140,
   "metadata": {},
   "outputs": [
    {
     "data": {
      "text/plain": [
       "<AxesSubplot:>"
      ]
     },
     "execution_count": 140,
     "metadata": {},
     "output_type": "execute_result"
    },
    {
     "data": {
      "image/png": "[encoded data removed]",
      "text/plain": [
       "<Figure size 432x288 with 1 Axes>"
      ]
     },
     "metadata": {
      "needs_background": "light"
     },
     "output_type": "display_data"
    }
   ],
   "source": [
    "fig, ax = plt.subplots()\n",
    "STEM.Salary_group.value_counts().plot ( kind = \"bar\", x = 'Salary_group',ax = ax)\n"
   ]
  },
  {
   "cell_type": "code",
   "execution_count": 141,
   "metadata": {},
   "outputs": [
    {
     "data": {
      "text/plain": [
       "<AxesSubplot:xlabel='company', ylabel='Stock_avg'>"
      ]
     },
     "execution_count": 141,
     "metadata": {},
     "output_type": "execute_result"
    },
    {
     "data": {
      "image/png": "[encoded data removed]",
      "text/plain": [
       "<Figure size 720x504 with 2 Axes>"
      ]
     },
     "metadata": {
      "needs_background": "light"
     },
     "output_type": "display_data"
    }
   ],
   "source": [
    "combine = pd.merge(STEM, STOCKS[['company', 'Stock Price (As of Nov 16 2021)']], on='company')\n",
    "combine[\"Stock_amount\"] = combine[\"stockgrantvalue\"] / combine[\"Stock Price (As of Nov 16 2021)\"]\n",
    "combine[\"Stock_avg\"] = combine[\"Stock_amount\"] / combine[\"yearsofexperience\"]\n",
    "\n",
    "\n",
    "fig, ax = plt.subplots()\n",
    "combine.plot( kind = \"scatter\", x = \"company\", y = \"Stock_avg\", alpha = 0.1,\n",
    "            figsize = (10,7), c = \"yearsofexperience\", vmin = 0, vmax = 15,\n",
    "             cmap = plt.get_cmap(\"plasma\"),  ax=ax)\n",
    "\n"
   ]
  },
  {
   "cell_type": "code",
   "execution_count": 142,
   "metadata": {},
   "outputs": [
    {
     "data": {
      "text/plain": [
       "<AxesSubplot:xlabel='gender', ylabel='Total_salary'>"
      ]
     },
     "execution_count": 142,
     "metadata": {},
     "output_type": "execute_result"
    },
    {
     "data": {
      "image/png": "[encoded data removed]",
      "text/plain": [
       "<Figure size 720x504 with 2 Axes>"
      ]
     },
     "metadata": {
      "needs_background": "light"
     },
     "output_type": "display_data"
    }
   ],
   "source": [
    "df3 = pd.DataFrame(combine)\n",
    "df3[df3['gender'].isna()]\n",
    "df3.dropna( axis = 0, subset = [\"gender\"], inplace = True)\n",
    "fig, ax = plt.subplots()\n",
    "ax.ticklabel_format(useOffset=False, style='plain')\n",
    "df3.plot( kind = \"scatter\", x = \"gender\", y = \"Total_salary\",alpha = 0.1,\n",
    "        figsize = (10,7), c = \"bonus\", vmin = 0, \n",
    "         vmax = 130000, cmap = plt.get_cmap(\"cool\"), ax = ax)\n",
    "\n",
    "\n"
   ]
  },
  {
   "cell_type": "code",
   "execution_count": 143,
   "metadata": {},
   "outputs": [
    {
     "data": {
      "text/plain": [
       "<AxesSubplot:xlabel='Education', ylabel='Total_salary'>"
      ]
     },
     "execution_count": 143,
     "metadata": {},
     "output_type": "execute_result"
    },
    {
     "data": {
      "image/png": "[encoded data removed]",
      "text/plain": [
       "<Figure size 720x504 with 2 Axes>"
      ]
     },
     "metadata": {
      "needs_background": "light"
     },
     "output_type": "display_data"
    }
   ],
   "source": [
    "df4 = pd.DataFrame(combine)\n",
    "\n",
    "df4.dropna( axis = 0, subset = [\"Education\"], inplace = True)\n",
    "fig, ax = plt.subplots()\n",
    "ax.ticklabel_format(useOffset=False, style='plain')\n",
    "\n",
    "df4.plot( kind = \"scatter\", x = \"Education\", y = \"Total_salary\",alpha = 0.1,\n",
    "        figsize = (10,7), c = \"bonus\", vmin = 0, \n",
    "         vmax = 130000, cmap = plt.get_cmap(\"seismic\"), ax = ax)"
   ]
  },
  {
   "cell_type": "code",
   "execution_count": 144,
   "metadata": {},
   "outputs": [
    {
     "name": "stdout",
     "output_type": "stream",
     "text": [
      "<class 'list'>\n",
      "<class 'pandas.core.frame.DataFrame'>\n",
      "       Total_salary  stockgrantvalue  totalyearlycompensation\n",
      "0          117000.0          20000.0                   127000\n",
      "1          117000.0          33000.0                   150000\n",
      "2               0.0              0.0                   320000\n",
      "3               0.0              0.0                   300000\n",
      "4          123000.0           5000.0                   128000\n",
      "...             ...              ...                      ...\n",
      "16831      116500.0          20000.0                   122000\n",
      "16832      128500.0          42850.0                   171000\n",
      "16833      114250.0          17500.0                   132000\n",
      "16834      225000.0          25000.0                   250000\n",
      "16835      162900.0          73200.0                   237000\n",
      "\n",
      "[16836 rows x 3 columns]\n",
      "<class 'pandas.core.series.Series'>\n",
      "0              Mid\n",
      "1              Mid\n",
      "2         Very low\n",
      "3         Very low\n",
      "4              Mid\n",
      "           ...    \n",
      "16831          Mid\n",
      "16832          Mid\n",
      "16833          Mid\n",
      "16834    Upper Mid\n",
      "16835          Mid\n",
      "Name: Salary_group, Length: 16836, dtype: category\n",
      "Categories (6, object): ['Very low' < 'Low' < 'Mid' < 'Upper Mid' < 'High' < 'Very High']\n"
     ]
    }
   ],
   "source": [
    "column_use =  ['Total_salary', 'stockgrantvalue', 'totalyearlycompensation']\n",
    "print(type(column_use))\n",
    "\n",
    "X = combine[column_use]\n",
    "print(type(X))\n",
    "print(X)\n",
    "\n",
    "y = combine.Salary_group\n",
    "print(type(y))\n",
    "print(y)\n",
    "\n"
   ]
  },
  {
   "cell_type": "code",
   "execution_count": 145,
   "metadata": {},
   "outputs": [
    {
     "name": "stdout",
     "output_type": "stream",
     "text": [
      "X_train type =  <class 'pandas.core.frame.DataFrame'>\n",
      "X_train =  (10101, 3) X_test=  (6735, 3) y_train =  (10101,) y_test =  (6735,)\n"
     ]
    }
   ],
   "source": [
    "X_train, X_test, y_train, y_test = train_test_split( X, y, test_size = 0.4, random_state = 1)\n",
    "print( \"X_train type = \", type(X_train))\n",
    "print( \"X_train = \", X_train.shape, \"X_test= \", X_test.shape, \"y_train = \", y_train.shape, \"y_test = \", y_test.shape)"
   ]
  },
  {
   "cell_type": "code",
   "execution_count": 146,
   "metadata": {},
   "outputs": [
    {
     "data": {
      "text/plain": [
       "3281           Mid\n",
       "8859      Very low\n",
       "11740    Upper Mid\n",
       "8317           Mid\n",
       "16530          Low\n",
       "Name: Salary_group, dtype: category\n",
       "Categories (6, object): ['Very low' < 'Low' < 'Mid' < 'Upper Mid' < 'High' < 'Very High']"
      ]
     },
     "execution_count": 146,
     "metadata": {},
     "output_type": "execute_result"
    }
   ],
   "source": [
    "X_train.head()\n",
    "y_train.head()"
   ]
  },
  {
   "cell_type": "code",
   "execution_count": 147,
   "metadata": {},
   "outputs": [],
   "source": [
    "decision_tree = DecisionTreeClassifier()\n",
    "decision_tree = decision_tree.fit( X_train, y_train)\n"
   ]
  },
  {
   "cell_type": "code",
   "execution_count": 148,
   "metadata": {},
   "outputs": [
    {
     "name": "stdout",
     "output_type": "stream",
     "text": [
      "\n",
      "Accuracy: 0.9998515219005196\n"
     ]
    }
   ],
   "source": [
    "y_predict = decision_tree.predict(X_test)\n",
    "\n",
    "print( \"\\nAccuracy:\", metrics.accuracy_score( y_test, y_predict))"
   ]
  },
  {
   "cell_type": "code",
   "execution_count": 149,
   "metadata": {},
   "outputs": [
    {
     "data": {
      "text/plain": [
       "array([[ 263,    0,    0,    0,    0,    0],\n",
       "       [   0,  330,    0,    0,    0,    0],\n",
       "       [   0,    0, 3296,    0,    0,    0],\n",
       "       [   0,    0,    1, 1984,    0,    0],\n",
       "       [   0,    0,    0,    0,  221,    0],\n",
       "       [   0,    0,    0,    0,    0,  640]], dtype=int64)"
      ]
     },
     "execution_count": 149,
     "metadata": {},
     "output_type": "execute_result"
    }
   ],
   "source": [
    "from sklearn.metrics import confusion_matrix\n",
    "confusion_matrix( y_test, y_predict)"
   ]
  },
  {
   "cell_type": "code",
   "execution_count": 152,
   "metadata": {},
   "outputs": [
    {
     "data": {
      "text/plain": [
       "array([[ 640,    0,    0,    0,    0,    0],\n",
       "       [   0,  330,    0,    0,    0,    0],\n",
       "       [   0,    0, 3296,    0,    0,    0],\n",
       "       [   0,    0,    1, 1984,    0,    0],\n",
       "       [   0,    0,    0,    0,  263,    0],\n",
       "       [   0,    0,    0,    0,    0,  221]], dtype=int64)"
      ]
     },
     "execution_count": 152,
     "metadata": {},
     "output_type": "execute_result"
    }
   ],
   "source": [
    "sp =['Very low', 'Low', 'Mid', 'Upper Mid', 'High', 'Very High']\n",
    "confusion_matrix( y_test, y_predict, labels = sp)"
   ]
  },
  {
   "cell_type": "code",
   "execution_count": 154,
   "metadata": {},
   "outputs": [
    {
     "name": "stdout",
     "output_type": "stream",
     "text": [
      "                pred:Very low  pred:Low  pred:Mid  pred:Upper Mid  pred:High  \\\n",
      "true:Very low             640         0         0               0          0   \n",
      "true:Low                    0       330         0               0          0   \n",
      "true:Mid                    0         0      3296               0          0   \n",
      "true:Upper Mid              0         0         1            1984          0   \n",
      "true:High                   0         0         0               0        263   \n",
      "true:Very High              0         0         0               0          0   \n",
      "\n",
      "                pred:Very High  \n",
      "true:Very low                0  \n",
      "true:Low                     0  \n",
      "true:Mid                     0  \n",
      "true:Upper Mid               0  \n",
      "true:High                    0  \n",
      "true:Very High             221  \n"
     ]
    }
   ],
   "source": [
    "display = pd.DataFrame(\n",
    "    confusion_matrix( y_test, y_predict, labels = sp), \n",
    "    index=['true:Very low', 'true:Low', 'true:Mid', 'true:Upper Mid', 'true:High', 'true:Very High'], \n",
    "    columns=['pred:Very low', 'pred:Low', 'pred:Mid', 'pred:Upper Mid', 'pred:High', 'pred:Very High']\n",
    ")\n",
    "print(display)"
   ]
  },
  {
   "cell_type": "code",
   "execution_count": 155,
   "metadata": {},
   "outputs": [
    {
     "ename": "NameError",
     "evalue": "name 'iris' is not defined",
     "output_type": "error",
     "traceback": [
      "\u001b[1;31m---------------------------------------------------------------------------\u001b[0m",
      "\u001b[1;31mNameError\u001b[0m                                 Traceback (most recent call last)",
      "\u001b[1;32m<ipython-input-155-e04758e8ade3>\u001b[0m in \u001b[0;36m<module>\u001b[1;34m\u001b[0m\n\u001b[1;32m----> 1\u001b[1;33m \u001b[0mpd\u001b[0m\u001b[1;33m.\u001b[0m\u001b[0mcrosstab\u001b[0m\u001b[1;33m(\u001b[0m\u001b[0miris\u001b[0m\u001b[1;33m.\u001b[0m\u001b[0mSpecies\u001b[0m\u001b[1;33m,\u001b[0m\u001b[0miris\u001b[0m\u001b[1;33m.\u001b[0m\u001b[0msepal_bins\u001b[0m\u001b[1;33m)\u001b[0m\u001b[1;33m\u001b[0m\u001b[1;33m\u001b[0m\u001b[0m\n\u001b[0m",
      "\u001b[1;31mNameError\u001b[0m: name 'iris' is not defined"
     ]
    }
   ],
   "source": [
    "pd.crosstab(iris.Species,iris.sepal_bins)"
   ]
  },
  {
   "cell_type": "code",
   "execution_count": null,
   "metadata": {},
   "outputs": [],
   "source": [
    "# Feature selection\n",
    "#split dataset in features and target variable\n",
    "#SepalLengthCm\n",
    "#SepalWidthCm\n",
    "#PetalLengthCm\n",
    "#PetalWidthCm\n",
    "#Species\n",
    "feature_cols = ['SepalLengthCm', 'SepalWidthCm', 'PetalLengthCm', 'PetalWidthCm']\n",
    "X = iris[feature_cols] # Features\n",
    "y = iris.Species # Target variable"
   ]
  },
  {
   "cell_type": "code",
   "execution_count": null,
   "metadata": {},
   "outputs": [],
   "source": [
    "# Split dataset into training set and test set\n",
    "X_train, X_test, y_train, y_test = train_test_split(X, y, test_size=0.3, random_state=1) # 70% training and 30% test"
   ]
  },
  {
   "cell_type": "code",
   "execution_count": null,
   "metadata": {},
   "outputs": [],
   "source": [
    "print(type(X_train))"
   ]
  },
  {
   "cell_type": "code",
   "execution_count": null,
   "metadata": {},
   "outputs": [],
   "source": [
    "print(\"X_train = \", X_train.shape, \"X_test= \", X_test.shape, \"y_train = \", y_train.shape, \"y_test = \", y_test.shape)"
   ]
  },
  {
   "cell_type": "code",
   "execution_count": null,
   "metadata": {},
   "outputs": [],
   "source": [
    "X_train.head()"
   ]
  },
  {
   "cell_type": "code",
   "execution_count": null,
   "metadata": {},
   "outputs": [],
   "source": [
    "y_train.head()"
   ]
  },
  {
   "cell_type": "code",
   "execution_count": null,
   "metadata": {},
   "outputs": [],
   "source": [
    "# Create Decision Tree classifer object\n",
    "clf = DecisionTreeClassifier()"
   ]
  },
  {
   "cell_type": "code",
   "execution_count": null,
   "metadata": {},
   "outputs": [],
   "source": []
  },
  {
   "cell_type": "code",
   "execution_count": null,
   "metadata": {},
   "outputs": [],
   "source": [
    "# Train Decision Tree Classifer\n",
    "clf = clf.fit(X_train,y_train)"
   ]
  },
  {
   "cell_type": "code",
   "execution_count": null,
   "metadata": {},
   "outputs": [],
   "source": [
    "#Predict the response for test dataset\n",
    "y_pred = clf.predict(X_test)"
   ]
  },
  {
   "cell_type": "code",
   "execution_count": null,
   "metadata": {},
   "outputs": [],
   "source": [
    "# 1, 4,4,4,4 \n",
    "# SepalLengthCm\n",
    "# SepalWidthCm\n",
    "# PetalLengthCm\n",
    "# PetalWidthCm\n",
    "t = {'SepalLengthCm':[1], 'SepalWidthCm':[1], 'PetalLengthCm':[4], 'PetalWidthCm':[4]}\n",
    "trythis = pd.DataFrame(data=t)\n",
    "trythis\n"
   ]
  },
  {
   "cell_type": "code",
   "execution_count": null,
   "metadata": {},
   "outputs": [],
   "source": [
    "trypred = clf.predict(trythis)\n",
    "trypred"
   ]
  },
  {
   "cell_type": "code",
   "execution_count": null,
   "metadata": {},
   "outputs": [],
   "source": [
    "# how good is it? \n",
    "print(\"Accuracy:\",metrics.accuracy_score(y_test, y_pred))"
   ]
  },
  {
   "cell_type": "code",
   "execution_count": null,
   "metadata": {},
   "outputs": [],
   "source": [
    "y_test"
   ]
  },
  {
   "cell_type": "code",
   "execution_count": null,
   "metadata": {},
   "outputs": [],
   "source": [
    "y_pred"
   ]
  },
  {
   "cell_type": "code",
   "execution_count": null,
   "metadata": {},
   "outputs": [],
   "source": [
    "from sklearn.metrics import confusion_matrix\n",
    "confusion_matrix(y_test,y_pred)"
   ]
  },
  {
   "cell_type": "markdown",
   "metadata": {},
   "source": [
    "By definition a confusion matrix $C$ is such that $C_{i,j}$ is equal to the number of observations known to be in group $i$ and predicted to be in group $j$"
   ]
  },
  {
   "cell_type": "code",
   "execution_count": null,
   "metadata": {},
   "outputs": [],
   "source": [
    "sp=['Iris-setosa', 'Iris-versicolor', 'Iris-virginica']\n",
    "confusion_matrix(y_test,y_pred, labels=sp)"
   ]
  },
  {
   "cell_type": "code",
   "execution_count": null,
   "metadata": {},
   "outputs": [],
   "source": [
    "dazed = pd.DataFrame(\n",
    "    confusion_matrix(y_test, y_pred, labels=sp), \n",
    "    index=['true:setosa', 'true:versicolor', 'true:virginica'], \n",
    "    columns=['pred:setosa', 'pred:versicolo', 'pred:virginica']\n",
    ")\n",
    "print(dazed)"
   ]
  },
  {
   "cell_type": "code",
   "execution_count": null,
   "metadata": {},
   "outputs": [],
   "source": [
    "New = pd.DataFrame({'SepalLengthCm': [7,4.8, 3.2], \n",
    "                   'SepalWidthCm': [7, 4.0, 3.5], \n",
    "                   'PetalLengthCm': [7,1.4,1.6], \n",
    "                   'PetalWidthCm': [7,0.5,0.5]})\n",
    "New"
   ]
  },
  {
   "cell_type": "code",
   "execution_count": null,
   "metadata": {},
   "outputs": [],
   "source": [
    "trypred = clf.predict(New)\n",
    "trypred"
   ]
  },
  {
   "cell_type": "code",
   "execution_count": null,
   "metadata": {},
   "outputs": [],
   "source": []
  }
 ],
 "metadata": {
  "kernelspec": {
   "display_name": "Python 3",
   "language": "python",
   "name": "python3"
  },
  "language_info": {
   "codemirror_mode": {
    "name": "ipython",
    "version": 3
   },
   "file_extension": ".py",
   "mimetype": "text/x-python",
   "name": "python",
   "nbconvert_exporter": "python",
   "pygments_lexer": "ipython3",
   "version": "3.8.8"
  },
  "toc-autonumbering": false
 },
 "nbformat": 4,
 "nbformat_minor": 4
}
